{
  "nbformat": 4,
  "nbformat_minor": 0,
  "metadata": {
    "colab": {
      "provenance": [],
      "authorship_tag": "ABX9TyMMszxKkqLcWy7qOIym+RqP",
      "include_colab_link": true
    },
    "kernelspec": {
      "name": "python3",
      "display_name": "Python 3"
    },
    "language_info": {
      "name": "python"
    }
  },
  "cells": [
    {
      "cell_type": "markdown",
      "metadata": {
        "id": "view-in-github",
        "colab_type": "text"
      },
      "source": [
        "<a href=\"https://colab.research.google.com/github/5hvn5vk3/IntroGit/blob/main/GabigabiCode.ipynb\" target=\"_parent\"><img src=\"https://colab.research.google.com/assets/colab-badge.svg\" alt=\"Open In Colab\"/></a>"
      ]
    },
    {
      "cell_type": "markdown",
      "source": [
        "# ライブラリのインストールと関数の定義"
      ],
      "metadata": {
        "id": "rKzUvT7q85hT"
      }
    },
    {
      "cell_type": "code",
      "execution_count": null,
      "metadata": {
        "colab": {
          "base_uri": "https://localhost:8080/"
        },
        "id": "Wm2Flpa3aTlk",
        "outputId": "65817ce9-617e-42c4-944e-1c8e0d16ab65"
      },
      "outputs": [
        {
          "output_type": "stream",
          "name": "stdout",
          "text": [
            "Requirement already satisfied: Pillow in /usr/local/lib/python3.10/dist-packages (11.0.0)\n"
          ]
        }
      ],
      "source": [
        "# ライブラリのインストール\n",
        "\n",
        "!pip install Pillow\n",
        "from PIL import Image\n",
        "import os\n",
        "import math\n",
        "import google.colab"
      ]
    },
    {
      "cell_type": "code",
      "source": [
        "# GCからGDが見えるようにする\n",
        "google.colab.drive.mount(os.path.join(os.getcwd(), 'drive'))"
      ],
      "metadata": {
        "colab": {
          "base_uri": "https://localhost:8080/"
        },
        "id": "XsJ78KwRON9H",
        "outputId": "26afc062-d3ec-4481-b935-7f29bfabc4c6"
      },
      "execution_count": null,
      "outputs": [
        {
          "output_type": "stream",
          "name": "stdout",
          "text": [
            "Mounted at /content/drive\n"
          ]
        }
      ]
    },
    {
      "cell_type": "code",
      "source": [
        "myPath = os.path.join(os.getcwd(), 'drive', 'My Drive', 'DYCPosterIllustGabigabi', 'images')\n",
        "\n",
        "# 関数の定義\n",
        "\n",
        "# 最初のディレクトリを返す関数\n",
        "def OrigDirect(imgName):\n",
        "  dir = os.path.join(\n",
        "      myPath, imgName)\n",
        "  return dir\n",
        "\n",
        "# 別ディレクトリに画像を保存する関数 # ディレクトリに番号つけて増やす方針にした方がいい\n",
        "def SaveImginNewDirect(x,y):\n",
        "  newDirPath = myPath + '/' + x\n",
        "  newDirPath2 = os.path.join(newDirPath, x)\n",
        "\n",
        "  # 予定：消さないようにする\n",
        "  try:\n",
        "    os.remove(newDirPath2)\n",
        "  except FileNotFoundError:\n",
        "    pass\n",
        "\n",
        "  # 予定：ここをfor文にする\n",
        "  try:\n",
        "    os.mkdir(newDirPath)\n",
        "  except FileExistsError:\n",
        "    pass\n",
        "  y.save(newDirPath2)\n",
        "\n",
        "\n",
        "\n",
        "# 指定された画像のタテヨコの最大公約数を計算し、画像をモザイク(jpg)にして出力する関数\n",
        "def Mosaic(imgName):\n",
        "  dir = OrigDirect(imgName)\n",
        "\n",
        "  with Image.open(dir) as img:\n",
        "    width, height = img.size\n",
        "    sizeGCD = math.gcd(width, height)\n",
        "    widthSmall = width // sizeGCD\n",
        "    heightSmall = height // sizeGCD\n",
        "\n",
        "    imgSmall = img.resize((widthSmall, heightSmall))\n",
        "    imgMosaic = imgSmall.resize((width, height))\n",
        "    imgMosaicName = imgName.replace('.jpg', '') + 'Mosaic.jpg' # 出力前に名前の後ろに「Mosaic」を付ける\n",
        "\n",
        "    SaveImginNewDirect(imgMosaicName, imgMosaic)\n",
        "\n",
        "# 画像のタテヨコをそれぞれ、与えられた値Y, Xで分割し、画像をモザイク(jpg)にして出力する関数\n",
        "def MosaicXY(imgName,X,Y):\n",
        "  dir = OrigDirect(imgName)\n",
        "  with Image.open(dir) as img:\n",
        "    width, height = img.size\n",
        "    widthSmall = width // X\n",
        "    heightSmall = height // Y\n",
        "\n",
        "    imgSmall = img.resize((widthSmall, heightSmall))\n",
        "    imgMosaicXY = imgSmall.resize((width, height))\n",
        "    imgMosaicXYName = imgName.replace('.jpg', '') + 'MosaicXY.jpg'\n",
        "\n",
        "    SaveImginNewDirect(imgMosaicXYName, imgMosaicXY)"
      ],
      "metadata": {
        "id": "RCqDYxQeOd4Y"
      },
      "execution_count": null,
      "outputs": []
    },
    {
      "cell_type": "markdown",
      "source": [
        "# 関数の実行（具体的な値を入れる）"
      ],
      "metadata": {
        "id": "7DuwWNPV_rBa"
      }
    },
    {
      "cell_type": "code",
      "source": [
        "# 161 164\n",
        "imgName = 'FirstColorIllustPart.jpg'\n",
        "X = 161\n",
        "Y = 164\n",
        "Mosaic(imgName)\n",
        "MosaicXY(imgName,X,Y)"
      ],
      "metadata": {
        "id": "c-lK6cSg_zP7"
      },
      "execution_count": null,
      "outputs": []
    }
  ]
}